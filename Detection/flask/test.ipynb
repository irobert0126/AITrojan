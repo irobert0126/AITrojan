{
 "cells": [
  {
   "cell_type": "code",
   "execution_count": 6,
   "metadata": {},
   "outputs": [],
   "source": [
    "from keras.preprocessing.image import ImageDataGenerator, array_to_img, img_to_array, load_img \n",
    "from scipy import misc  \n",
    "import numpy\n",
    "import numpy.random\n",
    "import scipy.ndimage\n",
    "import scipy.misc\n",
    "\n",
    "def random_crop_image(image):\n",
    "      return image\n",
    "\n",
    "datagen = ImageDataGenerator( preprocessing_function=random_crop_image )\n",
    "\n",
    "img = load_img('../example/case1/seeds/0.png') \n",
    "x = img_to_array(img)\n",
    "x = x.reshape((1,) + x.shape)\n",
    "\n",
    "i = 0\n",
    "for batch in datagen.flow(x,batch_size=1,save_to_dir='.',\n",
    "                          save_prefix='trojan_', save_format='jpg'):\n",
    "    i += 1\n",
    "    if i > 20:\n",
    "        break  # 否则生成器会退出循环\n",
    "  "
   ]
  },
  {
   "cell_type": "code",
   "execution_count": null,
   "metadata": {},
   "outputs": [],
   "source": []
  }
 ],
 "metadata": {
  "kernelspec": {
   "display_name": "Python 2",
   "language": "python",
   "name": "python2"
  },
  "language_info": {
   "codemirror_mode": {
    "name": "ipython",
    "version": 3
   },
   "file_extension": ".py",
   "mimetype": "text/x-python",
   "name": "python",
   "nbconvert_exporter": "python",
   "pygments_lexer": "ipython3",
   "version": "3.7.3"
  }
 },
 "nbformat": 4,
 "nbformat_minor": 2
}
